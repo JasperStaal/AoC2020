{
 "cells": [
  {
   "cell_type": "code",
   "execution_count": 17,
   "metadata": {},
   "outputs": [],
   "source": [
    "import numpy as np\n",
    "with open(\"D:\\\\Documenten\\\\AoC2020\\\\dag3.txt\", \"r\") as f:\n",
    "    y=np.array([list(str(num)) for num in f.read().split()])"
   ]
  },
  {
   "cell_type": "code",
   "execution_count": 57,
   "metadata": {},
   "outputs": [
    {
     "data": {
      "text/plain": [
       "211"
      ]
     },
     "execution_count": 57,
     "metadata": {},
     "output_type": "execute_result"
    }
   ],
   "source": [
    "colindex=0\n",
    "rowindex=0\n",
    "count=0\n",
    "rows,cols=np.shape(y)\n",
    "for i in range(rows):\n",
    "    if y[rowindex,colindex]=='#':\n",
    "        count+=1\n",
    "    colindex=(colindex+3) % cols\n",
    "    rowindex+=1\n",
    "count"
   ]
  },
  {
   "cell_type": "code",
   "execution_count": 58,
   "metadata": {},
   "outputs": [
    {
     "data": {
      "text/plain": [
       "3584591857"
      ]
     },
     "execution_count": 58,
     "metadata": {},
     "output_type": "execute_result"
    }
   ],
   "source": [
    "steps=np.array([[1,1],[1,3],[1,5],[1,7],[2,1]])\n",
    "count_prod=1\n",
    "rows,cols=np.shape(y)\n",
    "for j in range(len(steps)):\n",
    "    colindex=0\n",
    "    rowindex=0\n",
    "    count=0\n",
    "    for i in range(int(rows/steps[j,0])):\n",
    "        if y[rowindex,colindex]=='#':\n",
    "            count+=1\n",
    "        colindex=(colindex+steps[j,1]) % cols\n",
    "        rowindex+=steps[j,0]\n",
    "    count_prod=count_prod*count\n",
    "count_prod"
   ]
  }
 ],
 "metadata": {
  "kernelspec": {
   "display_name": "Python 3",
   "language": "python",
   "name": "python3"
  },
  "language_info": {
   "codemirror_mode": {
    "name": "ipython",
    "version": 3
   },
   "file_extension": ".py",
   "mimetype": "text/x-python",
   "name": "python",
   "nbconvert_exporter": "python",
   "pygments_lexer": "ipython3",
   "version": "3.8.3"
  }
 },
 "nbformat": 4,
 "nbformat_minor": 4
}
