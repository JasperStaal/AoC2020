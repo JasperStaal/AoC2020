{
 "cells": [
  {
   "cell_type": "code",
   "execution_count": 80,
   "metadata": {},
   "outputs": [],
   "source": [
    "import numpy as np\n",
    "import re\n",
    "with open(\"D:\\\\Documenten\\\\AoC2020\\\\dag4.txt\", \"r\") as f:\n",
    "    y=np.array([str(num) for num in f.read().splitlines(0)])\n",
    "    y=np.append(y,'')"
   ]
  },
  {
   "cell_type": "code",
   "execution_count": 105,
   "metadata": {},
   "outputs": [
    {
     "name": "stdout",
     "output_type": "stream",
     "text": [
      "247\n"
     ]
    }
   ],
   "source": [
    "identifiers=\"\"\"\n",
    "byr\n",
    "iyr\n",
    "eyr\n",
    "hgt\n",
    "hcl\n",
    "ecl\n",
    "pid\n",
    "\"\"\".split()\n",
    "\n",
    "index=0\n",
    "string=''\n",
    "passports={}\n",
    "number_of_valid=0\n",
    "for x in y:\n",
    "    string+=' '+x\n",
    "    if x=='':\n",
    "        passports[index]=string\n",
    "        contains_vec=[j in string for j in identifiers]\n",
    "        number_of_valid+=np.prod(contains_vec)\n",
    "        index+=1\n",
    "        string=''\n",
    "print(number_of_valid)"
   ]
  },
  {
   "cell_type": "code",
   "execution_count": 104,
   "metadata": {},
   "outputs": [
    {
     "name": "stdout",
     "output_type": "stream",
     "text": [
      "145\n"
     ]
    }
   ],
   "source": [
    "validity_count=0\n",
    "for i in range(len(passports)):\n",
    "#     check if the passport was valid in previous exercise\n",
    "    contains_vec=[j in passports[i] for j in identifiers]\n",
    "    valid=np.prod(contains_vec) \n",
    "    if valid==1:\n",
    "        #make directory from passport\n",
    "        passport=passports[i]\n",
    "        passport=passport.split()\n",
    "        passport_dir={}\n",
    "        for x in passport:\n",
    "            x=x.split(':')\n",
    "            if x[0] in ['byr','iyr','eyr']:\n",
    "                passport_dir[x[0]]=int(x[1])\n",
    "            else:\n",
    "                passport_dir[x[0]]=x[1]\n",
    "        \n",
    "        #check each element on validity       \n",
    "        byr_valid=passport_dir['byr']>=1920 and passport_dir['byr']<=2002\n",
    "        iyr_valid=passport_dir['iyr']>=2010 and passport_dir['iyr']<=2020\n",
    "        eyr_valid=passport_dir['eyr']>=2020 and passport_dir['eyr']<=2030\n",
    "        \n",
    "        if 'in' in passport_dir['hgt']:\n",
    "            height=int(passport_dir['hgt'].replace('in',''))\n",
    "            hgt_valid=heigth>=59 and height<=76\n",
    "        elif 'cm' in passport_dir['hgt']:\n",
    "            height=int(passport_dir['hgt'].replace('cm',''))\n",
    "            hgt_valid=height>=150 and height<=193\n",
    "        else:\n",
    "            hgt_valid=False\n",
    "            \n",
    "        hcl_valid=bool(re.search(r'#[0-9a-f]{6}',passport_dir['hcl']))\n",
    "        ecl_valid=passport_dir['ecl'] in ['amb','blu','brn','gry','grn','hzl','oth']\n",
    "        pid_valid=bool(re.search(r'(^[0-9]{9})$',passport_dir['pid']))\n",
    "        \n",
    "        #check and count validity of passports\n",
    "        validity_count+=byr_valid*iyr_valid*eyr_valid*hgt_valid*hcl_valid*ecl_valid*pid_valid\n",
    "print(validity_count)"
   ]
  }
 ],
 "metadata": {
  "kernelspec": {
   "display_name": "Python 3",
   "language": "python",
   "name": "python3"
  },
  "language_info": {
   "codemirror_mode": {
    "name": "ipython",
    "version": 3
   },
   "file_extension": ".py",
   "mimetype": "text/x-python",
   "name": "python",
   "nbconvert_exporter": "python",
   "pygments_lexer": "ipython3",
   "version": "3.8.3"
  }
 },
 "nbformat": 4,
 "nbformat_minor": 4
}
