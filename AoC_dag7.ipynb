{
 "cells": [
  {
   "cell_type": "code",
   "execution_count": 1,
   "metadata": {},
   "outputs": [],
   "source": [
    "import numpy as np\n",
    "import re\n",
    "with open(\"D:\\\\Documenten\\\\AoC2020\\\\dag7.txt\", \"r\") as f:\n",
    "    rules=np.array([str(num) for num in f.read().splitlines(0)])"
   ]
  },
  {
   "cell_type": "code",
   "execution_count": 2,
   "metadata": {},
   "outputs": [],
   "source": [
    "bags=[]\n",
    "for rule in rules:\n",
    "    find_bag_rule=re.findall(r'(\\d*\\s*\\w+\\s+\\w+\\sbag)',rule)\n",
    "    find_bag_rule=[x.replace(' bag','') for x in find_bag_rule]\n",
    "    contains_string=''\n",
    "    for i in range(1,len(find_bag_rule)):\n",
    "        contains_string+=find_bag_rule[i]+', '\n",
    "    bags.append([find_bag_rule[0],contains_string])"
   ]
  },
  {
   "cell_type": "code",
   "execution_count": 3,
   "metadata": {},
   "outputs": [
    {
     "data": {
      "text/plain": [
       "287"
      ]
     },
     "execution_count": 3,
     "metadata": {},
     "output_type": "execute_result"
    }
   ],
   "source": [
    "search_for_list=['shiny gold']\n",
    "full_list=[]\n",
    "while len(search_for_list)!=0:\n",
    "    new_list=[]\n",
    "    for color in search_for_list:\n",
    "        for index, element in enumerate(bags):\n",
    "            if color in element[1]:\n",
    "                new_list.append(element[0])\n",
    "    search_for_list=new_list.copy()\n",
    "    full_list+=new_list\n",
    "len(set(full_list))"
   ]
  },
  {
   "cell_type": "code",
   "execution_count": 4,
   "metadata": {},
   "outputs": [],
   "source": [
    "bags_dict={}\n",
    "for rule in rules:\n",
    "    find_bag_rule=re.findall(r'(\\d*\\s*\\w+\\s+\\w+\\sbag)',rule)\n",
    "    find_bag_rule=[x.replace(' bag','') for x in find_bag_rule]\n",
    "    contains_string=''\n",
    "    for i in range(1,len(find_bag_rule)):\n",
    "        contains_string+=find_bag_rule[i]+', '\n",
    "    bags_dict[find_bag_rule[0]]=contains_string"
   ]
  },
  {
   "cell_type": "code",
   "execution_count": 5,
   "metadata": {},
   "outputs": [],
   "source": [
    "def contains_other(color):\n",
    "    contains=re.findall(r'([a-z]+\\s+[a-z]+)',bags_dict[color])\n",
    "    if 'no other' in contains:\n",
    "        return []\n",
    "    else:\n",
    "        nr_bags=re.findall(r'\\d+',bags_dict[color])\n",
    "        nr_bags=nr_bags=[int(x) for x in nr_bags]\n",
    "        contains_bags=[]\n",
    "        for index, string in enumerate(contains):\n",
    "            for i in range(nr_bags[index]):\n",
    "                contains_bags.append(string)\n",
    "        return contains_bags"
   ]
  },
  {
   "cell_type": "code",
   "execution_count": 6,
   "metadata": {},
   "outputs": [
    {
     "data": {
      "text/plain": [
       "48160"
      ]
     },
     "execution_count": 6,
     "metadata": {},
     "output_type": "execute_result"
    }
   ],
   "source": [
    "search_list=['shiny gold']\n",
    "bags_count=0\n",
    "while len(search_list)!=0:\n",
    "    bags_list=[]\n",
    "    for color in search_list:\n",
    "        bags_list+=contains_other(color)\n",
    "    bags_count+=len(bags_list)\n",
    "    search_list=bags_list.copy()\n",
    "bags_count"
   ]
  }
 ],
 "metadata": {
  "kernelspec": {
   "display_name": "Python 3",
   "language": "python",
   "name": "python3"
  },
  "language_info": {
   "codemirror_mode": {
    "name": "ipython",
    "version": 3
   },
   "file_extension": ".py",
   "mimetype": "text/x-python",
   "name": "python",
   "nbconvert_exporter": "python",
   "pygments_lexer": "ipython3",
   "version": "3.8.3"
  }
 },
 "nbformat": 4,
 "nbformat_minor": 4
}
