{
 "cells": [
  {
   "cell_type": "code",
   "execution_count": 2,
   "metadata": {},
   "outputs": [],
   "source": [
    "import numpy as np\n",
    "import re\n",
    "import string\n",
    "with open(\"D:\\\\Documenten\\\\AoC2020\\\\dag6.txt\", \"r\") as f:\n",
    "    y=np.array([str(num) for num in f.read().splitlines(0)])\n",
    "    y=np.append(y,'')"
   ]
  },
  {
   "cell_type": "code",
   "execution_count": 26,
   "metadata": {},
   "outputs": [
    {
     "data": {
      "text/plain": [
       "6630"
      ]
     },
     "execution_count": 26,
     "metadata": {},
     "output_type": "execute_result"
    }
   ],
   "source": [
    "index=0\n",
    "data_string=''\n",
    "count=0\n",
    "for x in y:\n",
    "    data_string+=' '+x\n",
    "    if x=='':\n",
    "        data_string=data_string.replace(' ','')\n",
    "        count+=len(list(set(data_string)))\n",
    "        index+=1\n",
    "        data_string=''\n",
    "count"
   ]
  },
  {
   "cell_type": "code",
   "execution_count": 32,
   "metadata": {},
   "outputs": [
    {
     "data": {
      "text/plain": [
       "3437"
      ]
     },
     "execution_count": 32,
     "metadata": {},
     "output_type": "execute_result"
    }
   ],
   "source": [
    "index=0\n",
    "data_string=''\n",
    "alphabet=(string.ascii_lowercase)\n",
    "count_2=0\n",
    "for x in y:\n",
    "    data_string+=' '+x\n",
    "    if x=='':\n",
    "        data_string=data_string.split()\n",
    "        for letter in alphabet:\n",
    "            string_count=0\n",
    "            for element in data_string:\n",
    "                if letter in element:\n",
    "                    string_count+=1\n",
    "            if string_count==len(data_string):\n",
    "                count_2+=1            \n",
    "        index+=1\n",
    "        data_string=''\n",
    "count_2"
   ]
  }
 ],
 "metadata": {
  "kernelspec": {
   "display_name": "Python 3",
   "language": "python",
   "name": "python3"
  },
  "language_info": {
   "codemirror_mode": {
    "name": "ipython",
    "version": 3
   },
   "file_extension": ".py",
   "mimetype": "text/x-python",
   "name": "python",
   "nbconvert_exporter": "python",
   "pygments_lexer": "ipython3",
   "version": "3.8.3"
  }
 },
 "nbformat": 4,
 "nbformat_minor": 4
}
