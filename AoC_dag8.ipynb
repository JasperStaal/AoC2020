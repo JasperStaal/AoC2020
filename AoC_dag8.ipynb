{
 "cells": [
  {
   "cell_type": "code",
   "execution_count": 135,
   "metadata": {},
   "outputs": [],
   "source": [
    "import numpy as np\n",
    "import re\n",
    "with open(\"D:\\\\Documenten\\\\AoC2020\\\\dag8.txt\", \"r\") as f:\n",
    "    rules=np.array([str(num) for num in f.read().split()]).reshape(-1,2)"
   ]
  },
  {
   "cell_type": "code",
   "execution_count": 136,
   "metadata": {},
   "outputs": [],
   "source": [
    "rules=[[x[0],int(x[1])] for x in rules]"
   ]
  },
  {
   "cell_type": "code",
   "execution_count": 116,
   "metadata": {},
   "outputs": [
    {
     "data": {
      "text/plain": [
       "5"
      ]
     },
     "execution_count": 116,
     "metadata": {},
     "output_type": "execute_result"
    }
   ],
   "source": [
    "index_list=[]\n",
    "index=0\n",
    "acc=0\n",
    "while index not in index_list:\n",
    "    index_list.append(index)\n",
    "    if rules[index][0]=='nop':\n",
    "        index+=1\n",
    "    elif rules[index][0]=='acc':\n",
    "        acc+=rules[index][1]\n",
    "        index+=1\n",
    "    else:\n",
    "        index+=rules[index][1]\n",
    "acc"
   ]
  },
  {
   "cell_type": "code",
   "execution_count": 137,
   "metadata": {},
   "outputs": [],
   "source": [
    "def calc_acc(copy_rules):\n",
    "    index_list=[]\n",
    "    index=0\n",
    "    acc=0\n",
    "    while index not in index_list and index<len(rules):\n",
    "        index_list.append(index)\n",
    "        if copy_rules[index][0]=='nop':\n",
    "            index+=1\n",
    "        elif copy_rules[index][0]=='acc':\n",
    "            acc+=copy_rules[index][1]\n",
    "            index+=1\n",
    "        else:\n",
    "            index+=copy_rules[index][1]\n",
    "        if index>=len(rules):\n",
    "            return acc"
   ]
  },
  {
   "cell_type": "code",
   "execution_count": 138,
   "metadata": {},
   "outputs": [
    {
     "name": "stdout",
     "output_type": "stream",
     "text": [
      "1643\n"
     ]
    }
   ],
   "source": [
    "for i in range(len(rules)):\n",
    "    if rules[i][0]=='nop':\n",
    "        rules[i][0]='jmp'\n",
    "    elif rules[i][0]=='jmp':\n",
    "        rules[i][0]='nop'\n",
    "    \n",
    "    acc=calc_acc(rules)\n",
    "    if acc!=None:\n",
    "        print(acc)\n",
    "        \n",
    "    if rules[i][0]=='nop':\n",
    "        rules[i][0]='jmp'\n",
    "    elif rules[i][0]=='jmp':\n",
    "        rules[i][0]='nop'\n",
    "\n"
   ]
  }
 ],
 "metadata": {
  "kernelspec": {
   "display_name": "Python 3",
   "language": "python",
   "name": "python3"
  },
  "language_info": {
   "codemirror_mode": {
    "name": "ipython",
    "version": 3
   },
   "file_extension": ".py",
   "mimetype": "text/x-python",
   "name": "python",
   "nbconvert_exporter": "python",
   "pygments_lexer": "ipython3",
   "version": "3.8.3"
  }
 },
 "nbformat": 4,
 "nbformat_minor": 4
}
