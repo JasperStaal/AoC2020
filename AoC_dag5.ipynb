{
 "cells": [
  {
   "cell_type": "code",
   "execution_count": 3,
   "metadata": {},
   "outputs": [],
   "source": [
    "import numpy as np\n",
    "import re\n",
    "with open(\"D:\\\\Documenten\\\\AoC2020\\\\dag5.txt\", \"r\") as f:\n",
    "    y=np.array([str(num) for num in f.read().split()])"
   ]
  },
  {
   "cell_type": "code",
   "execution_count": 22,
   "metadata": {},
   "outputs": [
    {
     "name": "stdout",
     "output_type": "stream",
     "text": [
      "[512, 256, 128, 64, 32, 16, 8, 4, 2, 1]\n",
      "963.0\n"
     ]
    }
   ],
   "source": [
    "binary_matrix=np.zeros([len(y),10])\n",
    "place_number=np.zeros(len(y))\n",
    "powers_of_2=[2**(9-n) for n in range(10)]\n",
    "for index, element in enumerate(y):\n",
    "    for letter_index,letter in enumerate(element):\n",
    "        if letter in ['B','R']:\n",
    "            binary_matrix[index,letter_index]=1\n",
    "    place_number[index]=sum(binary_matrix[index,:]*powers_of_2)\n",
    "print(np.max(place_number))"
   ]
  },
  {
   "cell_type": "code",
   "execution_count": 26,
   "metadata": {},
   "outputs": [
    {
     "name": "stdout",
     "output_type": "stream",
     "text": [
      "592\n"
     ]
    }
   ],
   "source": [
    "for i in range(1024):\n",
    "    if i not in place_number:\n",
    "        if i+1 in place_number and i-1 in place_number:\n",
    "            print(i)"
   ]
  }
 ],
 "metadata": {
  "kernelspec": {
   "display_name": "Python 3",
   "language": "python",
   "name": "python3"
  },
  "language_info": {
   "codemirror_mode": {
    "name": "ipython",
    "version": 3
   },
   "file_extension": ".py",
   "mimetype": "text/x-python",
   "name": "python",
   "nbconvert_exporter": "python",
   "pygments_lexer": "ipython3",
   "version": "3.8.3"
  }
 },
 "nbformat": 4,
 "nbformat_minor": 4
}
