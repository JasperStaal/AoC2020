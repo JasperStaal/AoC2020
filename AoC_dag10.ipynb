{
 "cells": [
  {
   "cell_type": "code",
   "execution_count": 1,
   "metadata": {},
   "outputs": [],
   "source": [
    "import numpy as np\n",
    "import re\n",
    "with open(\"D:\\\\Documenten\\\\AoC2020\\\\dag10.txt\", \"r\") as f:\n",
    "    adapters=np.array([int(num) for num in f.read().split()])"
   ]
  },
  {
   "cell_type": "code",
   "execution_count": 2,
   "metadata": {},
   "outputs": [
    {
     "data": {
      "text/plain": [
       "2516"
      ]
     },
     "execution_count": 2,
     "metadata": {},
     "output_type": "execute_result"
    }
   ],
   "source": [
    "sorted_adapters=np.sort(adapters)\n",
    "new_sorted=[0]\n",
    "for x in sorted_adapters:\n",
    "    new_sorted.append(x)\n",
    "new_sorted.append(sorted_adapters[-1]+3)\n",
    "\n",
    "sorted_adapters=np.array(new_sorted)\n",
    "\n",
    "unique, counts = np.unique(sorted_adapters[1:]-sorted_adapters[:-1], return_counts=True)\n",
    "np.prod(counts)"
   ]
  },
  {
   "cell_type": "code",
   "execution_count": 3,
   "metadata": {
    "scrolled": true
   },
   "outputs": [
    {
     "data": {
      "text/plain": [
       "296196766695424"
      ]
     },
     "execution_count": 3,
     "metadata": {},
     "output_type": "execute_result"
    }
   ],
   "source": [
    "steps=[]\n",
    "for x in sorted_adapters[1:]-sorted_adapters[:-1]:\n",
    "    steps.append(x)\n",
    "\n",
    "count_ones=[]\n",
    "count=0\n",
    "for x in steps:\n",
    "    if x==1:\n",
    "        count+=1\n",
    "    if x==3:\n",
    "        count_ones.append(count)\n",
    "        count=0\n",
    "\n",
    "options=[1,1,2]\n",
    "for x in range(3,len(sorted_adapters)):\n",
    "    options.append(sum(options[x-3:x]))\n",
    "\n",
    "total_options= np.array([float(options[i]) for i in count_ones])\n",
    "int(np.prod(total_options))"
   ]
  }
 ],
 "metadata": {
  "kernelspec": {
   "display_name": "Python 3",
   "language": "python",
   "name": "python3"
  },
  "language_info": {
   "codemirror_mode": {
    "name": "ipython",
    "version": 3
   },
   "file_extension": ".py",
   "mimetype": "text/x-python",
   "name": "python",
   "nbconvert_exporter": "python",
   "pygments_lexer": "ipython3",
   "version": "3.8.3"
  }
 },
 "nbformat": 4,
 "nbformat_minor": 4
}
