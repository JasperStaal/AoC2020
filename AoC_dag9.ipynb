{
 "cells": [
  {
   "cell_type": "code",
   "execution_count": 3,
   "metadata": {},
   "outputs": [],
   "source": [
    "import numpy as np\n",
    "import re\n",
    "with open(\"D:\\\\Documenten\\\\AoC2020\\\\dag9.txt\", \"r\") as f:\n",
    "    numbers=np.array([int(num) for num in f.read().split()])"
   ]
  },
  {
   "cell_type": "code",
   "execution_count": 39,
   "metadata": {},
   "outputs": [
    {
     "name": "stdout",
     "output_type": "stream",
     "text": [
      "1930745883\n"
     ]
    }
   ],
   "source": [
    "for index, num in enumerate(numbers[25:]):\n",
    "    previous_num=numbers[index:index+25]\n",
    "    validity=False\n",
    "    for index_2, x in enumerate(previous_num):\n",
    "        for y in previous_num[(index_2+1):]:\n",
    "            if x+y==num:\n",
    "                validity=True\n",
    "    if validity==False:\n",
    "        invalid=[index,num]\n",
    "print(invalid[1])"
   ]
  },
  {
   "cell_type": "code",
   "execution_count": 38,
   "metadata": {},
   "outputs": [
    {
     "name": "stdout",
     "output_type": "stream",
     "text": [
      "268878261\n"
     ]
    }
   ],
   "source": [
    "for index, num in enumerate(numbers):\n",
    "    contiguous_set=[num]\n",
    "    sum_index=1\n",
    "    while sum(contiguous_set)<invalid[1]:\n",
    "        contiguous_set.append(numbers[index+sum_index])\n",
    "        sum_index+=1\n",
    "    if sum(contiguous_set)==invalid[1] and len(contiguous_set)!=1:\n",
    "        print(min(contiguous_set)+max(contiguous_set))"
   ]
  }
 ],
 "metadata": {
  "kernelspec": {
   "display_name": "Python 3",
   "language": "python",
   "name": "python3"
  },
  "language_info": {
   "codemirror_mode": {
    "name": "ipython",
    "version": 3
   },
   "file_extension": ".py",
   "mimetype": "text/x-python",
   "name": "python",
   "nbconvert_exporter": "python",
   "pygments_lexer": "ipython3",
   "version": "3.8.3"
  }
 },
 "nbformat": 4,
 "nbformat_minor": 4
}
