{
 "cells": [
  {
   "cell_type": "code",
   "execution_count": 1,
   "metadata": {},
   "outputs": [],
   "source": [
    "import numpy as np\n",
    "import re"
   ]
  },
  {
   "cell_type": "code",
   "execution_count": 2,
   "metadata": {},
   "outputs": [],
   "source": [
    "# ===============DAG 1===========================\n",
    "file1 = open(\"D:\\\\Documenten\\\\AoC2020\\\\dag1.txt\", \"r\")\n",
    "y=np.array([int(num) for num in file1.read().split()])"
   ]
  },
  {
   "cell_type": "code",
   "execution_count": 3,
   "metadata": {},
   "outputs": [
    {
     "name": "stdout",
     "output_type": "stream",
     "text": [
      "447 1573 703131\n"
     ]
    }
   ],
   "source": [
    "for p in y:\n",
    "    for q in y[int(np.where(y==p)[0]):]:\n",
    "        if p+q==2020:\n",
    "            print(p,q,p*q)"
   ]
  },
  {
   "cell_type": "code",
   "execution_count": 4,
   "metadata": {},
   "outputs": [
    {
     "name": "stdout",
     "output_type": "stream",
     "text": [
      "930 609 481 272423970\n"
     ]
    }
   ],
   "source": [
    "for p in y:\n",
    "    for q in y[int(np.where(y==p)[0]):]:\n",
    "        for r in y[int(np.where(y==q)[0]):]:\n",
    "            if p+q+r==2020:\n",
    "                print(p,q,r,p*q*r)\n"
   ]
  },
  {
   "cell_type": "code",
   "execution_count": 5,
   "metadata": {},
   "outputs": [],
   "source": [
    "# ===============DAG 2===========================\n",
    "file2 = open(\"D:\\\\Documenten\\\\AoC2020\\\\dag2.txt\", \"r\")\n",
    "x = [str(num) for num in file2.read().split()]"
   ]
  },
  {
   "cell_type": "code",
   "execution_count": 6,
   "metadata": {},
   "outputs": [
    {
     "data": {
      "text/plain": [
       "416"
      ]
     },
     "execution_count": 6,
     "metadata": {},
     "output_type": "execute_result"
    }
   ],
   "source": [
    "t=[re.findall(r'\\d+',x[3*i]) for i in range(1000)]\n",
    "s=[x[3*i+2].count(x[3*i+1][0]) for i in range(1000)]\n",
    "sum([1 if s[i]>=int(t[i][0]) and s[i]<=int(t[i][1]) else 0 for i in range(1000)])"
   ]
  },
  {
   "cell_type": "code",
   "execution_count": 7,
   "metadata": {},
   "outputs": [
    {
     "data": {
      "text/plain": [
       "688"
      ]
     },
     "execution_count": 7,
     "metadata": {},
     "output_type": "execute_result"
    }
   ],
   "source": [
    "s=[[x[3*p+2][int(int(t[p][0])-1)],x[3*p+2][int(int(t[p][1])-1)]].count(x[3*p+1][0]) for p in range(1000)]\n",
    "sum([1 if i==1 else 0 for i in s])"
   ]
  },
  {
   "cell_type": "code",
   "execution_count": null,
   "metadata": {},
   "outputs": [],
   "source": []
  }
 ],
 "metadata": {
  "kernelspec": {
   "display_name": "Python 3",
   "language": "python",
   "name": "python3"
  },
  "language_info": {
   "codemirror_mode": {
    "name": "ipython",
    "version": 3
   },
   "file_extension": ".py",
   "mimetype": "text/x-python",
   "name": "python",
   "nbconvert_exporter": "python",
   "pygments_lexer": "ipython3",
   "version": "3.8.3"
  }
 },
 "nbformat": 4,
 "nbformat_minor": 4
}
