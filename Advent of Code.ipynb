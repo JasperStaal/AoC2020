{
 "cells": [
  {
   "cell_type": "code",
   "execution_count": 1,
   "metadata": {},
   "outputs": [],
   "source": [
    "import numpy as np\n",
    "import re"
   ]
  },
  {
   "cell_type": "code",
   "execution_count": 11,
   "metadata": {},
   "outputs": [],
   "source": [
    "# ===============DAG 1===========================\n",
    "with open(\"D:\\\\Documenten\\\\AoC2020\\\\dag1.txt\", \"r\") as f:\n",
    "    y=np.array([int(num) for num in f.read().split()])"
   ]
  },
  {
   "cell_type": "code",
   "execution_count": 12,
   "metadata": {},
   "outputs": [
    {
     "name": "stdout",
     "output_type": "stream",
     "text": [
      "447 1573 703131\n"
     ]
    }
   ],
   "source": [
    "for ind, p in enumerate(y):\n",
    "    for q in y[ind:]:\n",
    "        if p+q==2020:\n",
    "            print(p,q,p*q)"
   ]
  },
  {
   "cell_type": "code",
   "execution_count": 16,
   "metadata": {},
   "outputs": [
    {
     "name": "stdout",
     "output_type": "stream",
     "text": [
      "930 609 481 272423970\n"
     ]
    }
   ],
   "source": [
    "for ind_1,p in enumerate(y):\n",
    "    for ind_2,q in enumerate(y[ind_1:]):\n",
    "        for r in y[ind_1+ind_2:]:\n",
    "            if p+q+r==2020:\n",
    "                print(p,q,r,p*q*r)\n"
   ]
  },
  {
   "cell_type": "code",
   "execution_count": 19,
   "metadata": {},
   "outputs": [],
   "source": [
    "# ===============DAG 2===========================\n",
    "with open(\"D:\\\\Documenten\\\\AoC2020\\\\dag2.txt\", \"r\") as f:\n",
    "    x = [str(num) for num in f.read().split()]"
   ]
  },
  {
   "cell_type": "code",
   "execution_count": 25,
   "metadata": {},
   "outputs": [
    {
     "data": {
      "text/plain": [
       "416"
      ]
     },
     "execution_count": 25,
     "metadata": {},
     "output_type": "execute_result"
    }
   ],
   "source": [
    "t=[re.findall(r'\\d+',i) for i in x[::3]]\n",
    "s=[x[i+1].count(x[i][0]) for i in range(1,len(x),3)]\n",
    "sum([1 if s[i]>=int(t[i][0]) and s[i]<=int(t[i][1]) else 0 for i in range(int(len(x)/3))])"
   ]
  },
  {
   "cell_type": "code",
   "execution_count": 26,
   "metadata": {},
   "outputs": [
    {
     "data": {
      "text/plain": [
       "688"
      ]
     },
     "execution_count": 26,
     "metadata": {},
     "output_type": "execute_result"
    }
   ],
   "source": [
    "s=[[x[3*p+2][int(int(t[p][0])-1)],x[3*p+2][int(int(t[p][1])-1)]].count(x[3*p+1][0]) for p in range(int(len(x)/3))]\n",
    "sum([1 if i==1 else 0 for i in s])"
   ]
  }
 ],
 "metadata": {
  "kernelspec": {
   "display_name": "Python 3",
   "language": "python",
   "name": "python3"
  },
  "language_info": {
   "codemirror_mode": {
    "name": "ipython",
    "version": 3
   },
   "file_extension": ".py",
   "mimetype": "text/x-python",
   "name": "python",
   "nbconvert_exporter": "python",
   "pygments_lexer": "ipython3",
   "version": "3.8.3"
  }
 },
 "nbformat": 4,
 "nbformat_minor": 4
}
